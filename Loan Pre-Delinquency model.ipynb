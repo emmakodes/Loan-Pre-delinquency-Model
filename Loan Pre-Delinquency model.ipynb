{
 "cells": [
  {
   "cell_type": "code",
   "execution_count": 0,
   "metadata": {
    "colab": {},
    "colab_type": "code",
    "id": "qJghfUiHDo9U"
   },
   "outputs": [],
   "source": [
    "!pip install -q keras\n",
    "!pip install -q eli5"
   ]
  },
  {
   "cell_type": "code",
   "execution_count": 0,
   "metadata": {
    "colab": {},
    "colab_type": "code",
    "id": "Tw-zqqiXPcpr"
   },
   "outputs": [],
   "source": [
    "# Code to read csv file into Colaboratory:\n",
    "\n",
    "!pip install -U -q PyDrive\n",
    "from pydrive.auth import GoogleAuth\n",
    "from pydrive.drive import GoogleDrive\n",
    "from google.colab import auth\n",
    "from oauth2client.client import GoogleCredentials\n",
    "\n",
    "# Authenticate and create the PyDrive client.\n",
    "auth.authenticate_user()\n",
    "gauth = GoogleAuth()\n",
    "gauth.credentials = GoogleCredentials.get_application_default()\n",
    "drive = GoogleDrive(gauth)"
   ]
  },
  {
   "cell_type": "code",
   "execution_count": 0,
   "metadata": {
    "colab": {},
    "colab_type": "code",
    "id": "sDsLd37hP77S"
   },
   "outputs": [],
   "source": [
    "link = 'https://drive.google.com/open?id=13lEn4rTnzhGaRa0XV7tD9bNdHHWOwSvr'"
   ]
  },
  {
   "cell_type": "code",
   "execution_count": 4,
   "metadata": {
    "colab": {
     "base_uri": "https://localhost:8080/",
     "height": 35
    },
    "colab_type": "code",
    "id": "Z8QWLL0sREol",
    "outputId": "49b4d1c1-ed49-4ce3-cf0d-fa10aa1ed8a2"
   },
   "outputs": [
    {
     "name": "stdout",
     "output_type": "stream",
     "text": [
      "13lEn4rTnzhGaRa0XV7tD9bNdHHWOwSvr\n"
     ]
    }
   ],
   "source": [
    "fluff, id = link.split('=')\n",
    "\n",
    "print (id) # Verify that you have everything after '='"
   ]
  },
  {
   "cell_type": "markdown",
   "metadata": {
    "colab_type": "text",
    "id": "ZDh1xffgCCJN"
   },
   "source": [
    "# Import necessary packages like Pandas,numpy....."
   ]
  },
  {
   "cell_type": "code",
   "execution_count": 1,
   "metadata": {
    "colab": {
     "base_uri": "https://localhost:8080/",
     "height": 35
    },
    "colab_type": "code",
    "id": "UZUSiDcVCCJe",
    "outputId": "d91a5dd1-c769-46e2-fc54-dbded4c66ec0"
   },
   "outputs": [],
   "source": [
    "#Import necessary packages \n",
    "from sklearn.model_selection import RepeatedStratifiedKFold\n",
    "from sklearn.model_selection import train_test_split\n",
    "from sklearn.ensemble import RandomForestClassifier\n",
    "from sklearn.model_selection import GridSearchCV\n",
    "from sklearn.preprocessing import StandardScaler\n",
    "from sklearn.metrics import precision_score\n",
    "from sklearn.metrics import roc_curve, auc\n",
    "from sklearn.metrics import accuracy_score\n",
    "from sklearn.metrics import recall_score\n",
    "from sklearn.decomposition import PCA\n",
    "from sklearn.metrics import f1_score\n",
    "#from keras.models import Sequential\n",
    "from sklearn.utils import resample\n",
    "import matplotlib.pyplot as plt\n",
    "#from keras.layers import Dense, Dropout, Flatten\n",
    "from datetime import datetime\n",
    "from sklearn import metrics\n",
    "import seaborn as sns\n",
    "import pandas as pd\n",
    "%matplotlib inline\n",
    "import numpy as np\n",
    "#import eli5 #for feature importance\n",
    "#from eli5.sklearn import PermutationImportance\n",
    "import random\n",
    "#from keras.wrappers.scikit_learn import KerasClassifier\n",
    "#from keras.optimizers import SGD\n",
    "#from keras.constraints import maxnorm\n",
    "\n",
    "from sklearn.neural_network import MLPClassifier\n",
    "\n",
    "import warnings\n",
    "warnings.filterwarnings(\"ignore\")"
   ]
  },
  {
   "cell_type": "code",
   "execution_count": 0,
   "metadata": {
    "colab": {},
    "colab_type": "code",
    "id": "7uiS4AiUP8TH"
   },
   "outputs": [],
   "source": [
    "downloaded = drive.CreateFile({'id':id}) \n",
    "downloaded.GetContentFile('paylaterdy.csv')  \n",
    "data = pd.read_csv('paylaterdy.csv')\n",
    "\n",
    "# Dataset is now stored in a Pandas Dataframe"
   ]
  },
  {
   "cell_type": "code",
   "execution_count": 2,
   "metadata": {
    "colab": {},
    "colab_type": "code",
    "id": "ALAJTsWdCCKC"
   },
   "outputs": [],
   "source": [
    "#DECLARE CSV FILE\n",
    "dir_data = 'paylaterdy.csv'"
   ]
  },
  {
   "cell_type": "code",
   "execution_count": 3,
   "metadata": {
    "colab": {},
    "colab_type": "code",
    "id": "912TX9oUCCKg"
   },
   "outputs": [],
   "source": [
    "#READ DATA FILE\n",
    "data = pd.read_csv(dir_data, low_memory = False)"
   ]
  },
  {
   "cell_type": "markdown",
   "metadata": {
    "colab_type": "text",
    "id": "yqcOIeNKCCK7"
   },
   "source": [
    "# Data Preprocessing"
   ]
  },
  {
   "cell_type": "code",
   "execution_count": 4,
   "metadata": {
    "colab": {
     "base_uri": "https://localhost:8080/",
     "height": 231
    },
    "colab_type": "code",
    "id": "3Ss1GN5SCCLD",
    "outputId": "d76f8ef4-9b2e-4aed-cf48-e17fcd17b72c",
    "scrolled": true
   },
   "outputs": [
    {
     "data": {
      "text/html": [
       "<div>\n",
       "<style scoped>\n",
       "    .dataframe tbody tr th:only-of-type {\n",
       "        vertical-align: middle;\n",
       "    }\n",
       "\n",
       "    .dataframe tbody tr th {\n",
       "        vertical-align: top;\n",
       "    }\n",
       "\n",
       "    .dataframe thead th {\n",
       "        text-align: right;\n",
       "    }\n",
       "</style>\n",
       "<table border=\"1\" class=\"dataframe\">\n",
       "  <thead>\n",
       "    <tr style=\"text-align: right;\">\n",
       "      <th></th>\n",
       "      <th>clientId</th>\n",
       "      <th>clientIncome</th>\n",
       "      <th>incomeVerified</th>\n",
       "      <th>clientAge</th>\n",
       "      <th>clientGender</th>\n",
       "      <th>clientMaritalStatus</th>\n",
       "      <th>clientLoanPurpose</th>\n",
       "      <th>clientResidentialStauts</th>\n",
       "      <th>clientState</th>\n",
       "      <th>clientTimeAtEmployer</th>\n",
       "      <th>...</th>\n",
       "      <th>interestRate</th>\n",
       "      <th>loanTerm</th>\n",
       "      <th>max_amount_taken</th>\n",
       "      <th>max_tenor_taken</th>\n",
       "      <th>repaidDate</th>\n",
       "      <th>dueDate.1</th>\n",
       "      <th>settleDays</th>\n",
       "      <th>firstPaymentRatio</th>\n",
       "      <th>firstPaymentDefault</th>\n",
       "      <th>loanDefault</th>\n",
       "    </tr>\n",
       "  </thead>\n",
       "  <tbody>\n",
       "    <tr>\n",
       "      <th>0</th>\n",
       "      <td>623648987</td>\n",
       "      <td>100000.0</td>\n",
       "      <td>True</td>\n",
       "      <td>36</td>\n",
       "      <td>MALE</td>\n",
       "      <td>Single</td>\n",
       "      <td>education</td>\n",
       "      <td>Rented</td>\n",
       "      <td>LAGOS</td>\n",
       "      <td>27</td>\n",
       "      <td>...</td>\n",
       "      <td>5.0</td>\n",
       "      <td>180</td>\n",
       "      <td>0</td>\n",
       "      <td>1</td>\n",
       "      <td>2018-07-25 14:57:24 UTC</td>\n",
       "      <td>2018-07-24 00:00:00 UTC</td>\n",
       "      <td>1</td>\n",
       "      <td>0.0</td>\n",
       "      <td>0</td>\n",
       "      <td>0</td>\n",
       "    </tr>\n",
       "    <tr>\n",
       "      <th>1</th>\n",
       "      <td>304054278</td>\n",
       "      <td>70000.0</td>\n",
       "      <td>False</td>\n",
       "      <td>55</td>\n",
       "      <td>MALE</td>\n",
       "      <td>Married</td>\n",
       "      <td>business</td>\n",
       "      <td>Employer Provided</td>\n",
       "      <td>EDO</td>\n",
       "      <td>36+</td>\n",
       "      <td>...</td>\n",
       "      <td>7.5</td>\n",
       "      <td>180</td>\n",
       "      <td>0</td>\n",
       "      <td>1</td>\n",
       "      <td>2018-04-14 04:02:50 UTC</td>\n",
       "      <td>2018-03-10 00:00:00 UTC</td>\n",
       "      <td>35</td>\n",
       "      <td>0.0</td>\n",
       "      <td>1</td>\n",
       "      <td>1</td>\n",
       "    </tr>\n",
       "  </tbody>\n",
       "</table>\n",
       "<p>2 rows × 33 columns</p>\n",
       "</div>"
      ],
      "text/plain": [
       "    clientId  clientIncome incomeVerified  clientAge clientGender  \\\n",
       "0  623648987      100000.0           True         36         MALE   \n",
       "1  304054278       70000.0          False         55         MALE   \n",
       "\n",
       "  clientMaritalStatus clientLoanPurpose clientResidentialStauts clientState  \\\n",
       "0              Single         education                  Rented       LAGOS   \n",
       "1             Married          business       Employer Provided         EDO   \n",
       "\n",
       "  clientTimeAtEmployer     ...      interestRate  loanTerm max_amount_taken  \\\n",
       "0                   27     ...               5.0       180                0   \n",
       "1                  36+     ...               7.5       180                0   \n",
       "\n",
       "  max_tenor_taken               repaidDate                dueDate.1  \\\n",
       "0               1  2018-07-25 14:57:24 UTC  2018-07-24 00:00:00 UTC   \n",
       "1               1  2018-04-14 04:02:50 UTC  2018-03-10 00:00:00 UTC   \n",
       "\n",
       "  settleDays firstPaymentRatio firstPaymentDefault loanDefault  \n",
       "0          1               0.0                   0           0  \n",
       "1         35               0.0                   1           1  \n",
       "\n",
       "[2 rows x 33 columns]"
      ]
     },
     "execution_count": 4,
     "metadata": {},
     "output_type": "execute_result"
    }
   ],
   "source": [
    "#show data(first two rows)\n",
    "data.head(2)"
   ]
  },
  {
   "cell_type": "code",
   "execution_count": 5,
   "metadata": {
    "colab": {
     "base_uri": "https://localhost:8080/",
     "height": 641
    },
    "colab_type": "code",
    "id": "_lsfnmtBCCLj",
    "outputId": "abe30c8e-712a-4443-a88f-8ddd933b3fd4"
   },
   "outputs": [
    {
     "data": {
      "text/plain": [
       "clientId                       int64\n",
       "clientIncome                 float64\n",
       "incomeVerified                object\n",
       "clientAge                      int64\n",
       "clientGender                  object\n",
       "clientMaritalStatus           object\n",
       "clientLoanPurpose             object\n",
       "clientResidentialStauts       object\n",
       "clientState                   object\n",
       "clientTimeAtEmployer          object\n",
       "clientNumberPhoneContacts    float64\n",
       "clientAvgCallsPerDay         float64\n",
       "loanId                        object\n",
       "loanType                      object\n",
       "loanNumber                     int64\n",
       "applicationDate               object\n",
       "approvalDate                  object\n",
       "declinedDate                  object\n",
       "disbursementDate              object\n",
       "payout_status                 object\n",
       "dueDate                       object\n",
       "paidAt                        object\n",
       "loanAmount                     int64\n",
       "interestRate                 float64\n",
       "loanTerm                       int64\n",
       "max_amount_taken               int64\n",
       "max_tenor_taken                int64\n",
       "repaidDate                    object\n",
       "dueDate.1                     object\n",
       "settleDays                     int64\n",
       "firstPaymentRatio            float64\n",
       "firstPaymentDefault            int64\n",
       "loanDefault                    int64\n",
       "dtype: object"
      ]
     },
     "execution_count": 5,
     "metadata": {},
     "output_type": "execute_result"
    }
   ],
   "source": [
    "#datatypes of data variable\n",
    "data.dtypes"
   ]
  },
  {
   "cell_type": "code",
   "execution_count": 6,
   "metadata": {
    "colab": {
     "base_uri": "https://localhost:8080/",
     "height": 641
    },
    "colab_type": "code",
    "id": "gbyfFb4PCCL-",
    "outputId": "1160a36d-7744-45a1-9515-cb1d721a753d"
   },
   "outputs": [
    {
     "data": {
      "text/plain": [
       "clientId                          0\n",
       "clientIncome                      0\n",
       "incomeVerified                  103\n",
       "clientAge                         0\n",
       "clientGender                      0\n",
       "clientMaritalStatus               6\n",
       "clientLoanPurpose                 0\n",
       "clientResidentialStauts        1136\n",
       "clientState                       1\n",
       "clientTimeAtEmployer           4194\n",
       "clientNumberPhoneContacts      2708\n",
       "clientAvgCallsPerDay           2687\n",
       "loanId                            0\n",
       "loanType                          0\n",
       "loanNumber                        0\n",
       "applicationDate                   0\n",
       "approvalDate                      0\n",
       "declinedDate                 159589\n",
       "disbursementDate                  0\n",
       "payout_status                     0\n",
       "dueDate                           0\n",
       "paidAt                        29800\n",
       "loanAmount                        0\n",
       "interestRate                      0\n",
       "loanTerm                          0\n",
       "max_amount_taken                  0\n",
       "max_tenor_taken                   0\n",
       "repaidDate                    19471\n",
       "dueDate.1                         0\n",
       "settleDays                        0\n",
       "firstPaymentRatio                 0\n",
       "firstPaymentDefault               0\n",
       "loanDefault                       0\n",
       "dtype: int64"
      ]
     },
     "execution_count": 6,
     "metadata": {},
     "output_type": "execute_result"
    }
   ],
   "source": [
    "#missing values of data variable\n",
    "data.isnull().sum()"
   ]
  },
  {
   "cell_type": "markdown",
   "metadata": {
    "colab_type": "text",
    "id": "QcDGahMMCCMd"
   },
   "source": [
    "Feature Engineering from Date Variables"
   ]
  },
  {
   "cell_type": "code",
   "execution_count": 7,
   "metadata": {
    "colab": {},
    "colab_type": "code",
    "id": "h6CKIvR7CCMj"
   },
   "outputs": [],
   "source": [
    "#date variables to datetime\n",
    "data['applicationDate'] = pd.to_datetime(data['applicationDate'])\n",
    "data['approvalDate'] = pd.to_datetime(data['approvalDate'])\n",
    "data['disbursementDate'] = pd.to_datetime(data['disbursementDate'])\n",
    "data['repaidDate'] = pd.to_datetime(data['repaidDate'])\n",
    "data['dueDate.1'] = pd.to_datetime(data['dueDate.1'])"
   ]
  },
  {
   "cell_type": "code",
   "execution_count": 8,
   "metadata": {
    "colab": {},
    "colab_type": "code",
    "id": "DEG8dsFSCCNN"
   },
   "outputs": [],
   "source": [
    "#function to engineer features from date variable\n",
    "def prepare_time_features(df):\n",
    "    df['month'] = df.applicationDate.dt.month\n",
    "    df[\"year\"] = df.applicationDate.dt.year\n",
    "    df[\"day_of_month\"] = df.applicationDate.dt.day\n",
    "    \n",
    "    return df\n",
    "\n",
    "\n",
    "def prepare_time_featuressss(df):\n",
    "    df['monthsss'] = df.repaidDate.dt.month\n",
    "    df[\"yearsss\"] = df.repaidDate.dt.year\n",
    "    df[\"day_of_monthsss\"] = df.repaidDate.dt.day\n",
    "    \n",
    "    return df"
   ]
  },
  {
   "cell_type": "code",
   "execution_count": 9,
   "metadata": {
    "colab": {},
    "colab_type": "code",
    "id": "odbR3OHsCCNv"
   },
   "outputs": [],
   "source": [
    "#objectify function\n",
    "data = prepare_time_features(data)\n",
    "data = prepare_time_featuressss(data)"
   ]
  },
  {
   "cell_type": "code",
   "execution_count": null,
   "metadata": {
    "colab": {},
    "colab_type": "code",
    "id": "Kf0JmknuCCN_"
   },
   "outputs": [],
   "source": []
  },
  {
   "cell_type": "code",
   "execution_count": 10,
   "metadata": {
    "colab": {
     "base_uri": "https://localhost:8080/",
     "height": 161
    },
    "colab_type": "code",
    "id": "wIgF5hnNCCOO",
    "outputId": "de894122-e51a-4888-97d4-023eb1b19b23"
   },
   "outputs": [
    {
     "data": {
      "text/html": [
       "<div>\n",
       "<style scoped>\n",
       "    .dataframe tbody tr th:only-of-type {\n",
       "        vertical-align: middle;\n",
       "    }\n",
       "\n",
       "    .dataframe tbody tr th {\n",
       "        vertical-align: top;\n",
       "    }\n",
       "\n",
       "    .dataframe thead th {\n",
       "        text-align: right;\n",
       "    }\n",
       "</style>\n",
       "<table border=\"1\" class=\"dataframe\">\n",
       "  <thead>\n",
       "    <tr style=\"text-align: right;\">\n",
       "      <th></th>\n",
       "      <th>clientId</th>\n",
       "      <th>clientIncome</th>\n",
       "      <th>incomeVerified</th>\n",
       "      <th>clientAge</th>\n",
       "      <th>clientGender</th>\n",
       "      <th>clientMaritalStatus</th>\n",
       "      <th>clientLoanPurpose</th>\n",
       "      <th>clientResidentialStauts</th>\n",
       "      <th>clientState</th>\n",
       "      <th>clientTimeAtEmployer</th>\n",
       "      <th>...</th>\n",
       "      <th>settleDays</th>\n",
       "      <th>firstPaymentRatio</th>\n",
       "      <th>firstPaymentDefault</th>\n",
       "      <th>loanDefault</th>\n",
       "      <th>month</th>\n",
       "      <th>year</th>\n",
       "      <th>day_of_month</th>\n",
       "      <th>monthsss</th>\n",
       "      <th>yearsss</th>\n",
       "      <th>day_of_monthsss</th>\n",
       "    </tr>\n",
       "  </thead>\n",
       "  <tbody>\n",
       "    <tr>\n",
       "      <th>0</th>\n",
       "      <td>623648987</td>\n",
       "      <td>100000.0</td>\n",
       "      <td>True</td>\n",
       "      <td>36</td>\n",
       "      <td>MALE</td>\n",
       "      <td>Single</td>\n",
       "      <td>education</td>\n",
       "      <td>Rented</td>\n",
       "      <td>LAGOS</td>\n",
       "      <td>27</td>\n",
       "      <td>...</td>\n",
       "      <td>1</td>\n",
       "      <td>0.0</td>\n",
       "      <td>0</td>\n",
       "      <td>0</td>\n",
       "      <td>6</td>\n",
       "      <td>2018</td>\n",
       "      <td>24</td>\n",
       "      <td>7.0</td>\n",
       "      <td>2018.0</td>\n",
       "      <td>25.0</td>\n",
       "    </tr>\n",
       "    <tr>\n",
       "      <th>1</th>\n",
       "      <td>304054278</td>\n",
       "      <td>70000.0</td>\n",
       "      <td>False</td>\n",
       "      <td>55</td>\n",
       "      <td>MALE</td>\n",
       "      <td>Married</td>\n",
       "      <td>business</td>\n",
       "      <td>Employer Provided</td>\n",
       "      <td>EDO</td>\n",
       "      <td>36+</td>\n",
       "      <td>...</td>\n",
       "      <td>35</td>\n",
       "      <td>0.0</td>\n",
       "      <td>1</td>\n",
       "      <td>1</td>\n",
       "      <td>8</td>\n",
       "      <td>2018</td>\n",
       "      <td>2</td>\n",
       "      <td>4.0</td>\n",
       "      <td>2018.0</td>\n",
       "      <td>14.0</td>\n",
       "    </tr>\n",
       "  </tbody>\n",
       "</table>\n",
       "<p>2 rows × 39 columns</p>\n",
       "</div>"
      ],
      "text/plain": [
       "    clientId  clientIncome incomeVerified  clientAge clientGender  \\\n",
       "0  623648987      100000.0           True         36         MALE   \n",
       "1  304054278       70000.0          False         55         MALE   \n",
       "\n",
       "  clientMaritalStatus clientLoanPurpose clientResidentialStauts clientState  \\\n",
       "0              Single         education                  Rented       LAGOS   \n",
       "1             Married          business       Employer Provided         EDO   \n",
       "\n",
       "  clientTimeAtEmployer       ...        settleDays  firstPaymentRatio  \\\n",
       "0                   27       ...                 1                0.0   \n",
       "1                  36+       ...                35                0.0   \n",
       "\n",
       "  firstPaymentDefault loanDefault  month  year day_of_month monthsss yearsss  \\\n",
       "0                   0           0      6  2018           24      7.0  2018.0   \n",
       "1                   1           1      8  2018            2      4.0  2018.0   \n",
       "\n",
       "  day_of_monthsss  \n",
       "0            25.0  \n",
       "1            14.0  \n",
       "\n",
       "[2 rows x 39 columns]"
      ]
     },
     "execution_count": 10,
     "metadata": {},
     "output_type": "execute_result"
    }
   ],
   "source": [
    "#show data(first two rows)\n",
    "data.head(2)"
   ]
  },
  {
   "cell_type": "code",
   "execution_count": 11,
   "metadata": {
    "colab": {
     "base_uri": "https://localhost:8080/",
     "height": 336
    },
    "colab_type": "code",
    "id": "YJeqFow3CCO7",
    "outputId": "c1393f54-47bf-4d88-8b8c-ee3816a25e45"
   },
   "outputs": [
    {
     "data": {
      "text/plain": [
       "<function matplotlib.pyplot.show(*args, **kw)>"
      ]
     },
     "execution_count": 11,
     "metadata": {},
     "output_type": "execute_result"
    },
    {
     "data": {
      "image/png": "[encoded data removed]",
      "text/plain": [
       "<Figure size 432x288 with 1 Axes>"
      ]
     },
     "metadata": {},
     "output_type": "display_data"
    }
   ],
   "source": [
    "#visualize the correlation between clientAge and loanDefault using a scatter plot\n",
    "data[['clientAge', 'loanDefault']].groupby(['clientAge'],as_index=False).mean().plot.scatter('clientAge','loanDefault')\n",
    "plt.show"
   ]
  },
  {
   "cell_type": "code",
   "execution_count": 12,
   "metadata": {
    "colab": {
     "base_uri": "https://localhost:8080/",
     "height": 90
    },
    "colab_type": "code",
    "id": "kqCj3tvtCCPY",
    "outputId": "f31c4609-a6fb-4502-d8eb-32237aa9d605"
   },
   "outputs": [
    {
     "data": {
      "text/plain": [
       "array([ 36,  55,  38,  39,  51,  37,  49,  23,  30,  34,  32,  48,  25,\n",
       "        27,  29,  33,  52,  35,  26,  31,  40,  45,  46,  43,  42,  47,\n",
       "        41,  28,  22,  50,  53,  24,  44,  54,  21,  60,  58,  59,  57,\n",
       "        56,  19,  20, 138,  18], dtype=int64)"
      ]
     },
     "execution_count": 12,
     "metadata": {},
     "output_type": "execute_result"
    }
   ],
   "source": [
    "#unique values in clientAge column\n",
    "data.clientAge.unique()"
   ]
  },
  {
   "cell_type": "markdown",
   "metadata": {
    "colab_type": "text",
    "id": "_eeNvUfVCCPv"
   },
   "source": [
    "It is interesting to find a clientAge of 138!!!! This will definitely mean an outlier"
   ]
  },
  {
   "cell_type": "code",
   "execution_count": 13,
   "metadata": {
    "colab": {},
    "colab_type": "code",
    "id": "Mvr105vTCCP1"
   },
   "outputs": [],
   "source": [
    "#drop the outlier row\n",
    "data = data[data[\"clientAge\"] < 138]"
   ]
  },
  {
   "cell_type": "code",
   "execution_count": 14,
   "metadata": {
    "colab": {},
    "colab_type": "code",
    "id": "i9ilWBcnhg9r"
   },
   "outputs": [],
   "source": [
    "data = data.reset_index()"
   ]
  },
  {
   "cell_type": "code",
   "execution_count": 15,
   "metadata": {
    "colab": {
     "base_uri": "https://localhost:8080/",
     "height": 309
    },
    "colab_type": "code",
    "id": "KN2vxRqPCCQG",
    "outputId": "c5491289-6a4a-44a9-d63d-596f4d5c1eb7"
   },
   "outputs": [
    {
     "data": {
      "image/png": "[encoded data removed]",
      "text/plain": [
       "<Figure size 432x288 with 1 Axes>"
      ]
     },
     "metadata": {},
     "output_type": "display_data"
    }
   ],
   "source": [
    "#check the distribution of clientMaritalStatus against loanDefault \n",
    "sns.countplot(x='clientMaritalStatus', data=data, palette='hls', hue='loanDefault')\n",
    "plt.xticks(rotation=45)\n",
    "plt.show( )"
   ]
  },
  {
   "cell_type": "markdown",
   "metadata": {
    "colab_type": "text",
    "id": "FrNPFNAsCCRF"
   },
   "source": [
    "Interesting to find more married people getting more loans from PAYLATER and also having higher default rate"
   ]
  },
  {
   "cell_type": "code",
   "execution_count": 16,
   "metadata": {
    "colab": {
     "base_uri": "https://localhost:8080/",
     "height": 297
    },
    "colab_type": "code",
    "id": "z2nJN4V5CCRK",
    "outputId": "e698c26e-06fc-4e92-abf6-df091bbe0a4e"
   },
   "outputs": [
    {
     "data": {
      "text/plain": [
       "<matplotlib.axes._subplots.AxesSubplot at 0x76a62ae630>"
      ]
     },
     "execution_count": 16,
     "metadata": {},
     "output_type": "execute_result"
    },
    {
     "data": {
      "image/png": "[encoded data removed]",
      "text/plain": [
       "<Figure size 432x288 with 1 Axes>"
      ]
     },
     "metadata": {},
     "output_type": "display_data"
    }
   ],
   "source": [
    "#plot distribution of clientLoanPurpose\n",
    "sns.countplot(x='clientLoanPurpose', data=data)"
   ]
  },
  {
   "cell_type": "markdown",
   "metadata": {
    "colab_type": "text",
    "id": "vbshJtEUCCRz"
   },
   "source": [
    "WHAO!!!! It is not surprising to see business inclined people getting more loan.\n",
    "People really take loans in Nigeria for education!!! Nice seeing this."
   ]
  },
  {
   "cell_type": "code",
   "execution_count": 17,
   "metadata": {
    "colab": {
     "base_uri": "https://localhost:8080/",
     "height": 297
    },
    "colab_type": "code",
    "id": "5iPdPFoICCR4",
    "outputId": "5d921eb4-e802-4dc0-fec8-3889607d5239"
   },
   "outputs": [
    {
     "data": {
      "text/plain": [
       "<matplotlib.axes._subplots.AxesSubplot at 0x76a62aeef0>"
      ]
     },
     "execution_count": 17,
     "metadata": {},
     "output_type": "execute_result"
    },
    {
     "data": {
      "image/png": "[encoded data removed]",
      "text/plain": [
       "<Figure size 432x288 with 1 Axes>"
      ]
     },
     "metadata": {},
     "output_type": "display_data"
    }
   ],
   "source": [
    "#plot distribution of clientGender\n",
    "sns.countplot(x='clientGender', data=data)"
   ]
  },
  {
   "cell_type": "markdown",
   "metadata": {
    "colab_type": "text",
    "id": "Cr1olU87CCSO"
   },
   "source": [
    "Interesting to see males taking most loans!!!"
   ]
  },
  {
   "cell_type": "code",
   "execution_count": 18,
   "metadata": {
    "colab": {
     "base_uri": "https://localhost:8080/",
     "height": 301
    },
    "colab_type": "code",
    "id": "rXIsD6QKCCSd",
    "outputId": "da503c30-daf3-4f83-ce8c-958e5c4b6059"
   },
   "outputs": [
    {
     "data": {
      "text/plain": [
       "<matplotlib.axes._subplots.AxesSubplot at 0x76ac6fd198>"
      ]
     },
     "execution_count": 18,
     "metadata": {},
     "output_type": "execute_result"
    },
    {
     "data": {
      "image/png": "[encoded data removed]",
      "text/plain": [
       "<Figure size 432x288 with 1 Axes>"
      ]
     },
     "metadata": {},
     "output_type": "display_data"
    }
   ],
   "source": [
    "sns.countplot(x='incomeVerified', data=data)"
   ]
  },
  {
   "cell_type": "markdown",
   "metadata": {
    "colab_type": "text",
    "id": "KSt5wj1fCCSs"
   },
   "source": [
    "A lot more incomeVerified are False"
   ]
  },
  {
   "cell_type": "code",
   "execution_count": 19,
   "metadata": {
    "colab": {
     "base_uri": "https://localhost:8080/",
     "height": 297
    },
    "colab_type": "code",
    "id": "pns78f0RCCSw",
    "outputId": "b584bdf3-52b4-433e-810c-74192ed544c1"
   },
   "outputs": [
    {
     "data": {
      "text/plain": [
       "<matplotlib.axes._subplots.AxesSubplot at 0x76ac744668>"
      ]
     },
     "execution_count": 19,
     "metadata": {},
     "output_type": "execute_result"
    },
    {
     "data": {
      "image/png": "[encoded data removed]",
      "text/plain": [
       "<Figure size 432x288 with 1 Axes>"
      ]
     },
     "metadata": {},
     "output_type": "display_data"
    }
   ],
   "source": [
    "#plot distribution of clientState\n",
    "sns.countplot(x='clientState', data=data)"
   ]
  },
  {
   "cell_type": "markdown",
   "metadata": {
    "colab_type": "text",
    "id": "VozVhZ6RCCTD"
   },
   "source": [
    "Lagosians are really taking loans as they have the most loans"
   ]
  },
  {
   "cell_type": "code",
   "execution_count": 20,
   "metadata": {
    "colab": {
     "base_uri": "https://localhost:8080/",
     "height": 336
    },
    "colab_type": "code",
    "id": "E-6iizT4CCTG",
    "outputId": "1e72f866-b9d8-4074-9779-e0e22489c3f1"
   },
   "outputs": [
    {
     "data": {
      "text/plain": [
       "<function matplotlib.pyplot.show(*args, **kw)>"
      ]
     },
     "execution_count": 20,
     "metadata": {},
     "output_type": "execute_result"
    },
    {
     "data": {
      "image/png": "[encoded data removed]",
      "text/plain": [
       "<Figure size 432x288 with 1 Axes>"
      ]
     },
     "metadata": {},
     "output_type": "display_data"
    }
   ],
   "source": [
    "#visualize the correlation between clientIncome and loanDefault using a scatter plot\n",
    "data[['loanDefault', 'clientIncome']].groupby(['clientIncome'],as_index=False).mean().plot.scatter('loanDefault','clientIncome')\n",
    "plt.show"
   ]
  },
  {
   "cell_type": "markdown",
   "metadata": {
    "colab_type": "text",
    "id": "-j2f-l2_CCTU"
   },
   "source": [
    "correlation plot to check variable correlation with other variables"
   ]
  },
  {
   "cell_type": "code",
   "execution_count": 21,
   "metadata": {
    "colab": {
     "base_uri": "https://localhost:8080/",
     "height": 618
    },
    "colab_type": "code",
    "id": "Iy79ykXxCCTp",
    "outputId": "899f5e2c-3895-4bf8-f933-1491408bb857"
   },
   "outputs": [
    {
     "data": {
      "text/plain": [
       "<matplotlib.axes._subplots.AxesSubplot at 0x76a8e8d940>"
      ]
     },
     "execution_count": 21,
     "metadata": {},
     "output_type": "execute_result"
    },
    {
     "data": {
      "image/png": "[encoded data removed]",
      "text/plain": [
       "<Figure size 720x576 with 2 Axes>"
      ]
     },
     "metadata": {},
     "output_type": "display_data"
    }
   ],
   "source": [
    "f, ax = plt.subplots(figsize=(10, 8))\n",
    "corr = data.corr()\n",
    "sns.heatmap(corr, mask=np.zeros_like(corr, dtype=np.bool), cmap=sns.diverging_palette(220, 10, as_cmap=True),\n",
    "           square=True, ax=ax)"
   ]
  },
  {
   "cell_type": "markdown",
   "metadata": {
    "colab_type": "text",
    "id": "jS_XO1VtCCUd"
   },
   "source": [
    "drop columns/variables that are redundant,high variability,highly correlated with other variables"
   ]
  },
  {
   "cell_type": "code",
   "execution_count": 22,
   "metadata": {
    "colab": {},
    "colab_type": "code",
    "id": "XMebJ0cGCCUk"
   },
   "outputs": [],
   "source": [
    "data.drop(['paidAt','dueDate','dueDate.1','clientId','loanId','loanType','declinedDate','payout_status',\n",
    "           'repaidDate','disbursementDate','approvalDate','applicationDate','clientTimeAtEmployer','firstPaymentRatio'], axis=1, inplace=True) "
   ]
  },
  {
   "cell_type": "code",
   "execution_count": 23,
   "metadata": {
    "colab": {
     "base_uri": "https://localhost:8080/",
     "height": 175
    },
    "colab_type": "code",
    "id": "DV79tAaJCCUy",
    "outputId": "e5f12f9f-74a8-4b24-89ff-4f1a811e2dc6"
   },
   "outputs": [
    {
     "data": {
      "text/html": [
       "<div>\n",
       "<style scoped>\n",
       "    .dataframe tbody tr th:only-of-type {\n",
       "        vertical-align: middle;\n",
       "    }\n",
       "\n",
       "    .dataframe tbody tr th {\n",
       "        vertical-align: top;\n",
       "    }\n",
       "\n",
       "    .dataframe thead th {\n",
       "        text-align: right;\n",
       "    }\n",
       "</style>\n",
       "<table border=\"1\" class=\"dataframe\">\n",
       "  <thead>\n",
       "    <tr style=\"text-align: right;\">\n",
       "      <th></th>\n",
       "      <th>incomeVerified</th>\n",
       "      <th>clientGender</th>\n",
       "      <th>clientMaritalStatus</th>\n",
       "      <th>clientLoanPurpose</th>\n",
       "      <th>clientResidentialStauts</th>\n",
       "      <th>clientState</th>\n",
       "    </tr>\n",
       "  </thead>\n",
       "  <tbody>\n",
       "    <tr>\n",
       "      <th>count</th>\n",
       "      <td>159492</td>\n",
       "      <td>159595</td>\n",
       "      <td>159589</td>\n",
       "      <td>159595</td>\n",
       "      <td>158459</td>\n",
       "      <td>159594</td>\n",
       "    </tr>\n",
       "    <tr>\n",
       "      <th>unique</th>\n",
       "      <td>2</td>\n",
       "      <td>2</td>\n",
       "      <td>5</td>\n",
       "      <td>5</td>\n",
       "      <td>5</td>\n",
       "      <td>39</td>\n",
       "    </tr>\n",
       "    <tr>\n",
       "      <th>top</th>\n",
       "      <td>False</td>\n",
       "      <td>MALE</td>\n",
       "      <td>Married</td>\n",
       "      <td>business</td>\n",
       "      <td>Rented</td>\n",
       "      <td>LAGOS</td>\n",
       "    </tr>\n",
       "    <tr>\n",
       "      <th>freq</th>\n",
       "      <td>133286</td>\n",
       "      <td>109665</td>\n",
       "      <td>85491</td>\n",
       "      <td>78975</td>\n",
       "      <td>100533</td>\n",
       "      <td>60666</td>\n",
       "    </tr>\n",
       "  </tbody>\n",
       "</table>\n",
       "</div>"
      ],
      "text/plain": [
       "       incomeVerified clientGender clientMaritalStatus clientLoanPurpose  \\\n",
       "count          159492       159595              159589            159595   \n",
       "unique              2            2                   5                 5   \n",
       "top             False         MALE             Married          business   \n",
       "freq           133286       109665               85491             78975   \n",
       "\n",
       "       clientResidentialStauts clientState  \n",
       "count                   158459      159594  \n",
       "unique                       5          39  \n",
       "top                     Rented       LAGOS  \n",
       "freq                    100533       60666  "
      ]
     },
     "execution_count": 23,
     "metadata": {},
     "output_type": "execute_result"
    }
   ],
   "source": [
    "data.describe(include=['object'])"
   ]
  },
  {
   "cell_type": "code",
   "execution_count": 24,
   "metadata": {
    "colab": {
     "base_uri": "https://localhost:8080/",
     "height": 513
    },
    "colab_type": "code",
    "id": "2A6ooxcZCCU9",
    "outputId": "7a8af5ff-915e-43f0-cc18-16cd5fe8f30d"
   },
   "outputs": [
    {
     "data": {
      "text/plain": [
       "index                          int64\n",
       "clientIncome                 float64\n",
       "incomeVerified                object\n",
       "clientAge                      int64\n",
       "clientGender                  object\n",
       "clientMaritalStatus           object\n",
       "clientLoanPurpose             object\n",
       "clientResidentialStauts       object\n",
       "clientState                   object\n",
       "clientNumberPhoneContacts    float64\n",
       "clientAvgCallsPerDay         float64\n",
       "loanNumber                     int64\n",
       "loanAmount                     int64\n",
       "interestRate                 float64\n",
       "loanTerm                       int64\n",
       "max_amount_taken               int64\n",
       "max_tenor_taken                int64\n",
       "settleDays                     int64\n",
       "firstPaymentDefault            int64\n",
       "loanDefault                    int64\n",
       "month                          int64\n",
       "year                           int64\n",
       "day_of_month                   int64\n",
       "monthsss                     float64\n",
       "yearsss                      float64\n",
       "day_of_monthsss              float64\n",
       "dtype: object"
      ]
     },
     "execution_count": 24,
     "metadata": {},
     "output_type": "execute_result"
    }
   ],
   "source": [
    "data.dtypes"
   ]
  },
  {
   "cell_type": "code",
   "execution_count": 25,
   "metadata": {
    "colab": {
     "base_uri": "https://localhost:8080/",
     "height": 72
    },
    "colab_type": "code",
    "id": "xK9VZGL2CCVJ",
    "outputId": "eb17bf89-3cd6-4a45-d53d-f5ec3216c3d5"
   },
   "outputs": [
    {
     "data": {
      "text/plain": [
       "0    115303\n",
       "1     44292\n",
       "Name: loanDefault, dtype: int64"
      ]
     },
     "execution_count": 25,
     "metadata": {},
     "output_type": "execute_result"
    }
   ],
   "source": [
    "#check value count of target variable\n",
    "data.loanDefault.value_counts()"
   ]
  },
  {
   "cell_type": "code",
   "execution_count": 26,
   "metadata": {
    "colab": {
     "base_uri": "https://localhost:8080/",
     "height": 513
    },
    "colab_type": "code",
    "id": "cXpfxIlGCCVY",
    "outputId": "fe0d7afe-afdd-486f-d79a-49fe0a6cd729"
   },
   "outputs": [
    {
     "data": {
      "text/plain": [
       "index                        159595\n",
       "clientIncome                   9362\n",
       "incomeVerified                    2\n",
       "clientAge                        43\n",
       "clientGender                      2\n",
       "clientMaritalStatus               5\n",
       "clientLoanPurpose                 5\n",
       "clientResidentialStauts           5\n",
       "clientState                      39\n",
       "clientNumberPhoneContacts      7377\n",
       "clientAvgCallsPerDay         100306\n",
       "loanNumber                       32\n",
       "loanAmount                      483\n",
       "interestRate                    133\n",
       "loanTerm                          3\n",
       "max_amount_taken                  2\n",
       "max_tenor_taken                   2\n",
       "settleDays                      419\n",
       "firstPaymentDefault               2\n",
       "loanDefault                       2\n",
       "month                            12\n",
       "year                              2\n",
       "day_of_month                     30\n",
       "monthsss                         12\n",
       "yearsss                           3\n",
       "day_of_monthsss                  31\n",
       "dtype: int64"
      ]
     },
     "execution_count": 26,
     "metadata": {},
     "output_type": "execute_result"
    }
   ],
   "source": [
    "#sum of unique values in each columns\n",
    "data.nunique()"
   ]
  },
  {
   "cell_type": "markdown",
   "metadata": {
    "colab_type": "text",
    "id": "-YwDbKwNCCVs"
   },
   "source": [
    "get dummy of object variables"
   ]
  },
  {
   "cell_type": "code",
   "execution_count": 27,
   "metadata": {
    "colab": {},
    "colab_type": "code",
    "id": "jyFDRIbqCCVx"
   },
   "outputs": [],
   "source": [
    "data = pd.get_dummies(data, columns = ['incomeVerified','clientGender','clientMaritalStatus',\n",
    "                                       'clientLoanPurpose','clientResidentialStauts','clientState'])"
   ]
  },
  {
   "cell_type": "markdown",
   "metadata": {
    "colab_type": "text",
    "id": "ipxcTmm8CCV3"
   },
   "source": [
    "fill nan with -999"
   ]
  },
  {
   "cell_type": "code",
   "execution_count": 28,
   "metadata": {
    "colab": {},
    "colab_type": "code",
    "id": "oUuj3yvDCCV8"
   },
   "outputs": [],
   "source": [
    "data = data.fillna(-999)"
   ]
  },
  {
   "cell_type": "code",
   "execution_count": 29,
   "metadata": {
    "colab": {
     "base_uri": "https://localhost:8080/",
     "height": 161
    },
    "colab_type": "code",
    "id": "r-ZHZfVHCCWM",
    "outputId": "2c25d572-559f-4ac5-80f9-89f6add23db2"
   },
   "outputs": [
    {
     "data": {
      "text/html": [
       "<div>\n",
       "<style scoped>\n",
       "    .dataframe tbody tr th:only-of-type {\n",
       "        vertical-align: middle;\n",
       "    }\n",
       "\n",
       "    .dataframe tbody tr th {\n",
       "        vertical-align: top;\n",
       "    }\n",
       "\n",
       "    .dataframe thead th {\n",
       "        text-align: right;\n",
       "    }\n",
       "</style>\n",
       "<table border=\"1\" class=\"dataframe\">\n",
       "  <thead>\n",
       "    <tr style=\"text-align: right;\">\n",
       "      <th></th>\n",
       "      <th>index</th>\n",
       "      <th>clientIncome</th>\n",
       "      <th>clientAge</th>\n",
       "      <th>clientNumberPhoneContacts</th>\n",
       "      <th>clientAvgCallsPerDay</th>\n",
       "      <th>loanNumber</th>\n",
       "      <th>loanAmount</th>\n",
       "      <th>interestRate</th>\n",
       "      <th>loanTerm</th>\n",
       "      <th>max_amount_taken</th>\n",
       "      <th>...</th>\n",
       "      <th>clientState_OJO</th>\n",
       "      <th>clientState_ONDO</th>\n",
       "      <th>clientState_OSUN</th>\n",
       "      <th>clientState_OYO</th>\n",
       "      <th>clientState_PLATEAU</th>\n",
       "      <th>clientState_RIVERS</th>\n",
       "      <th>clientState_SOKOTO</th>\n",
       "      <th>clientState_TARABA</th>\n",
       "      <th>clientState_YOBE</th>\n",
       "      <th>clientState_ZAMFARA</th>\n",
       "    </tr>\n",
       "  </thead>\n",
       "  <tbody>\n",
       "    <tr>\n",
       "      <th>0</th>\n",
       "      <td>0</td>\n",
       "      <td>100000.0</td>\n",
       "      <td>36</td>\n",
       "      <td>-999.0</td>\n",
       "      <td>-999.000000</td>\n",
       "      <td>4</td>\n",
       "      <td>117000</td>\n",
       "      <td>5.0</td>\n",
       "      <td>180</td>\n",
       "      <td>0</td>\n",
       "      <td>...</td>\n",
       "      <td>0</td>\n",
       "      <td>0</td>\n",
       "      <td>0</td>\n",
       "      <td>0</td>\n",
       "      <td>0</td>\n",
       "      <td>0</td>\n",
       "      <td>0</td>\n",
       "      <td>0</td>\n",
       "      <td>0</td>\n",
       "      <td>0</td>\n",
       "    </tr>\n",
       "    <tr>\n",
       "      <th>1</th>\n",
       "      <td>1</td>\n",
       "      <td>70000.0</td>\n",
       "      <td>55</td>\n",
       "      <td>2064.0</td>\n",
       "      <td>4.936379</td>\n",
       "      <td>5</td>\n",
       "      <td>43500</td>\n",
       "      <td>7.5</td>\n",
       "      <td>180</td>\n",
       "      <td>0</td>\n",
       "      <td>...</td>\n",
       "      <td>0</td>\n",
       "      <td>0</td>\n",
       "      <td>0</td>\n",
       "      <td>0</td>\n",
       "      <td>0</td>\n",
       "      <td>0</td>\n",
       "      <td>0</td>\n",
       "      <td>0</td>\n",
       "      <td>0</td>\n",
       "      <td>0</td>\n",
       "    </tr>\n",
       "  </tbody>\n",
       "</table>\n",
       "<p>2 rows × 78 columns</p>\n",
       "</div>"
      ],
      "text/plain": [
       "   index  clientIncome  clientAge  clientNumberPhoneContacts  \\\n",
       "0      0      100000.0         36                     -999.0   \n",
       "1      1       70000.0         55                     2064.0   \n",
       "\n",
       "   clientAvgCallsPerDay  loanNumber  loanAmount  interestRate  loanTerm  \\\n",
       "0           -999.000000           4      117000           5.0       180   \n",
       "1              4.936379           5       43500           7.5       180   \n",
       "\n",
       "   max_amount_taken         ...           clientState_OJO  clientState_ONDO  \\\n",
       "0                 0         ...                         0                 0   \n",
       "1                 0         ...                         0                 0   \n",
       "\n",
       "   clientState_OSUN  clientState_OYO  clientState_PLATEAU  clientState_RIVERS  \\\n",
       "0                 0                0                    0                   0   \n",
       "1                 0                0                    0                   0   \n",
       "\n",
       "   clientState_SOKOTO  clientState_TARABA  clientState_YOBE  \\\n",
       "0                   0                   0                 0   \n",
       "1                   0                   0                 0   \n",
       "\n",
       "   clientState_ZAMFARA  \n",
       "0                    0  \n",
       "1                    0  \n",
       "\n",
       "[2 rows x 78 columns]"
      ]
     },
     "execution_count": 29,
     "metadata": {},
     "output_type": "execute_result"
    }
   ],
   "source": [
    "#show head of data\n",
    "data.head(2)"
   ]
  },
  {
   "cell_type": "code",
   "execution_count": 30,
   "metadata": {
    "colab": {
     "base_uri": "https://localhost:8080/",
     "height": 1156
    },
    "colab_type": "code",
    "id": "sjkeKBGbCCWl",
    "outputId": "851efd44-6470-46d2-e8c3-d138cb4a744a"
   },
   "outputs": [
    {
     "data": {
      "text/plain": [
       "index                              int64\n",
       "clientIncome                     float64\n",
       "clientAge                          int64\n",
       "clientNumberPhoneContacts        float64\n",
       "clientAvgCallsPerDay             float64\n",
       "loanNumber                         int64\n",
       "loanAmount                         int64\n",
       "interestRate                     float64\n",
       "loanTerm                           int64\n",
       "max_amount_taken                   int64\n",
       "max_tenor_taken                    int64\n",
       "settleDays                         int64\n",
       "firstPaymentDefault                int64\n",
       "loanDefault                        int64\n",
       "month                              int64\n",
       "year                               int64\n",
       "day_of_month                       int64\n",
       "monthsss                         float64\n",
       "yearsss                          float64\n",
       "day_of_monthsss                  float64\n",
       "incomeVerified_False               uint8\n",
       "incomeVerified_True                uint8\n",
       "clientGender_FEMALE                uint8\n",
       "clientGender_MALE                  uint8\n",
       "clientMaritalStatus_Divorced       uint8\n",
       "clientMaritalStatus_Married        uint8\n",
       "clientMaritalStatus_Separated      uint8\n",
       "clientMaritalStatus_Single         uint8\n",
       "clientMaritalStatus_Widowed        uint8\n",
       "clientLoanPurpose_business         uint8\n",
       "                                  ...   \n",
       "clientState_CROSS RIVER            uint8\n",
       "clientState_DELTA                  uint8\n",
       "clientState_EBONYI                 uint8\n",
       "clientState_EDO                    uint8\n",
       "clientState_EKITI                  uint8\n",
       "clientState_ENUGU                  uint8\n",
       "clientState_GOMBE                  uint8\n",
       "clientState_IMO                    uint8\n",
       "clientState_JIGAWA                 uint8\n",
       "clientState_KADUNA                 uint8\n",
       "clientState_KANO                   uint8\n",
       "clientState_KATSINA                uint8\n",
       "clientState_KEBBI                  uint8\n",
       "clientState_KOGI                   uint8\n",
       "clientState_KWARA                  uint8\n",
       "clientState_LAGOS                  uint8\n",
       "clientState_LAGOS                  uint8\n",
       "clientState_NASARAWA               uint8\n",
       "clientState_NIGER                  uint8\n",
       "clientState_OGUN                   uint8\n",
       "clientState_OJO                    uint8\n",
       "clientState_ONDO                   uint8\n",
       "clientState_OSUN                   uint8\n",
       "clientState_OYO                    uint8\n",
       "clientState_PLATEAU                uint8\n",
       "clientState_RIVERS                 uint8\n",
       "clientState_SOKOTO                 uint8\n",
       "clientState_TARABA                 uint8\n",
       "clientState_YOBE                   uint8\n",
       "clientState_ZAMFARA                uint8\n",
       "Length: 78, dtype: object"
      ]
     },
     "execution_count": 30,
     "metadata": {},
     "output_type": "execute_result"
    }
   ],
   "source": [
    "#datatypes of each columns\n",
    "data.dtypes"
   ]
  },
  {
   "cell_type": "code",
   "execution_count": 31,
   "metadata": {
    "colab": {},
    "colab_type": "code",
    "id": "Ctls2RlBCCW8"
   },
   "outputs": [],
   "source": [
    "#redeclare data to be X\n",
    "X = data"
   ]
  },
  {
   "cell_type": "code",
   "execution_count": 32,
   "metadata": {
    "colab": {},
    "colab_type": "code",
    "id": "r6M3pnV6CCXa"
   },
   "outputs": [],
   "source": [
    "#separate target variable classes\n",
    "X_majority = X[X.loanDefault==0]\n",
    "X_minority = X[X.loanDefault==1]"
   ]
  },
  {
   "cell_type": "code",
   "execution_count": 33,
   "metadata": {
    "colab": {
     "base_uri": "https://localhost:8080/",
     "height": 72
    },
    "colab_type": "code",
    "id": "eKsMKs3qCCXv",
    "outputId": "395bdde6-af96-40ba-a2b5-4ed308822735"
   },
   "outputs": [
    {
     "data": {
      "text/plain": [
       "1    115303\n",
       "0    115303\n",
       "Name: loanDefault, dtype: int64"
      ]
     },
     "execution_count": 33,
     "metadata": {},
     "output_type": "execute_result"
    }
   ],
   "source": [
    "#upsample minority class\n",
    "X_minority_upsampled = resample(X_minority,\n",
    "                                replace=True,#sample with replacement\n",
    "                                n_samples=115303,#to match majority class\n",
    "                                random_state=124)#reproducible results\n",
    "#combine majority class with upsampled minority class\n",
    "X = pd.concat([X_majority, X_minority_upsampled])\n",
    "#Display new class counts\n",
    "X.loanDefault.value_counts()"
   ]
  },
  {
   "cell_type": "code",
   "execution_count": 34,
   "metadata": {
    "colab": {},
    "colab_type": "code",
    "id": "z_HXDWjKCCXI"
   },
   "outputs": [],
   "source": [
    "#scale data\n",
    "scaler = StandardScaler()\n",
    "X = pd.DataFrame(scaler.fit_transform(X.values), columns=X.columns, index=X.index)"
   ]
  },
  {
   "cell_type": "code",
   "execution_count": 35,
   "metadata": {
    "colab": {
     "base_uri": "https://localhost:8080/",
     "height": 568
    },
    "colab_type": "code",
    "id": "NxjnXuLwCCX4",
    "outputId": "f0891c8b-7dea-4007-ff01-f48f0527a589"
   },
   "outputs": [
    {
     "data": {
      "text/plain": [
       "Index(['index', 'clientIncome', 'clientAge', 'clientNumberPhoneContacts',\n",
       "       'clientAvgCallsPerDay', 'loanNumber', 'loanAmount', 'interestRate',\n",
       "       'loanTerm', 'max_amount_taken', 'max_tenor_taken', 'settleDays',\n",
       "       'firstPaymentDefault', 'loanDefault', 'month', 'year', 'day_of_month',\n",
       "       'monthsss', 'yearsss', 'day_of_monthsss', 'incomeVerified_False',\n",
       "       'incomeVerified_True', 'clientGender_FEMALE', 'clientGender_MALE',\n",
       "       'clientMaritalStatus_Divorced', 'clientMaritalStatus_Married',\n",
       "       'clientMaritalStatus_Separated', 'clientMaritalStatus_Single',\n",
       "       'clientMaritalStatus_Widowed', 'clientLoanPurpose_business',\n",
       "       'clientLoanPurpose_education', 'clientLoanPurpose_house',\n",
       "       'clientLoanPurpose_medical', 'clientLoanPurpose_other',\n",
       "       'clientResidentialStauts_Employer Provided',\n",
       "       'clientResidentialStauts_Family Owned',\n",
       "       'clientResidentialStauts_Own Residence',\n",
       "       'clientResidentialStauts_Rented',\n",
       "       'clientResidentialStauts_Temp. Residence', 'clientState_ABIA',\n",
       "       'clientState_ABUJA', 'clientState_ADAMAWA', 'clientState_AKWA IBOM',\n",
       "       'clientState_ANAMBRA', 'clientState_BAUCHI', 'clientState_BAYELSA',\n",
       "       'clientState_BENUE', 'clientState_BORNO', 'clientState_CROSS RIVER',\n",
       "       'clientState_DELTA', 'clientState_EBONYI', 'clientState_EDO',\n",
       "       'clientState_EKITI', 'clientState_ENUGU', 'clientState_GOMBE',\n",
       "       'clientState_IMO', 'clientState_JIGAWA', 'clientState_KADUNA',\n",
       "       'clientState_KANO', 'clientState_KATSINA', 'clientState_KEBBI',\n",
       "       'clientState_KOGI', 'clientState_KWARA', 'clientState_LAGOS',\n",
       "       'clientState_LAGOS ', 'clientState_NASARAWA', 'clientState_NIGER',\n",
       "       'clientState_OGUN', 'clientState_OJO', 'clientState_ONDO',\n",
       "       'clientState_OSUN', 'clientState_OYO', 'clientState_PLATEAU',\n",
       "       'clientState_RIVERS', 'clientState_SOKOTO', 'clientState_TARABA',\n",
       "       'clientState_YOBE', 'clientState_ZAMFARA'],\n",
       "      dtype='object')"
      ]
     },
     "execution_count": 35,
     "metadata": {},
     "output_type": "execute_result"
    }
   ],
   "source": [
    "#columns in dataframe\n",
    "X.columns"
   ]
  },
  {
   "cell_type": "code",
   "execution_count": 36,
   "metadata": {
    "colab": {},
    "colab_type": "code",
    "id": "vxbfb6YJd9iT"
   },
   "outputs": [],
   "source": [
    "#X = X.reset_index()\n",
    "data = data.drop(['index'], axis=1)"
   ]
  },
  {
   "cell_type": "code",
   "execution_count": 37,
   "metadata": {
    "colab": {
     "base_uri": "https://localhost:8080/",
     "height": 568
    },
    "colab_type": "code",
    "id": "WqilkZG07iAv",
    "outputId": "340b5ced-4756-4827-ac73-8eab7b30cca3"
   },
   "outputs": [
    {
     "data": {
      "text/plain": [
       "Index(['clientIncome', 'clientAge', 'clientNumberPhoneContacts',\n",
       "       'clientAvgCallsPerDay', 'loanNumber', 'loanAmount', 'interestRate',\n",
       "       'loanTerm', 'max_amount_taken', 'max_tenor_taken', 'settleDays',\n",
       "       'firstPaymentDefault', 'loanDefault', 'month', 'year', 'day_of_month',\n",
       "       'monthsss', 'yearsss', 'day_of_monthsss', 'incomeVerified_False',\n",
       "       'incomeVerified_True', 'clientGender_FEMALE', 'clientGender_MALE',\n",
       "       'clientMaritalStatus_Divorced', 'clientMaritalStatus_Married',\n",
       "       'clientMaritalStatus_Separated', 'clientMaritalStatus_Single',\n",
       "       'clientMaritalStatus_Widowed', 'clientLoanPurpose_business',\n",
       "       'clientLoanPurpose_education', 'clientLoanPurpose_house',\n",
       "       'clientLoanPurpose_medical', 'clientLoanPurpose_other',\n",
       "       'clientResidentialStauts_Employer Provided',\n",
       "       'clientResidentialStauts_Family Owned',\n",
       "       'clientResidentialStauts_Own Residence',\n",
       "       'clientResidentialStauts_Rented',\n",
       "       'clientResidentialStauts_Temp. Residence', 'clientState_ABIA',\n",
       "       'clientState_ABUJA', 'clientState_ADAMAWA', 'clientState_AKWA IBOM',\n",
       "       'clientState_ANAMBRA', 'clientState_BAUCHI', 'clientState_BAYELSA',\n",
       "       'clientState_BENUE', 'clientState_BORNO', 'clientState_CROSS RIVER',\n",
       "       'clientState_DELTA', 'clientState_EBONYI', 'clientState_EDO',\n",
       "       'clientState_EKITI', 'clientState_ENUGU', 'clientState_GOMBE',\n",
       "       'clientState_IMO', 'clientState_JIGAWA', 'clientState_KADUNA',\n",
       "       'clientState_KANO', 'clientState_KATSINA', 'clientState_KEBBI',\n",
       "       'clientState_KOGI', 'clientState_KWARA', 'clientState_LAGOS',\n",
       "       'clientState_LAGOS ', 'clientState_NASARAWA', 'clientState_NIGER',\n",
       "       'clientState_OGUN', 'clientState_OJO', 'clientState_ONDO',\n",
       "       'clientState_OSUN', 'clientState_OYO', 'clientState_PLATEAU',\n",
       "       'clientState_RIVERS', 'clientState_SOKOTO', 'clientState_TARABA',\n",
       "       'clientState_YOBE', 'clientState_ZAMFARA'],\n",
       "      dtype='object')"
      ]
     },
     "execution_count": 37,
     "metadata": {},
     "output_type": "execute_result"
    }
   ],
   "source": [
    "data.columns"
   ]
  },
  {
   "cell_type": "markdown",
   "metadata": {
    "colab_type": "text",
    "id": "fkZwyHNLCCYD"
   },
   "source": [
    "get target variable and feature variable"
   ]
  },
  {
   "cell_type": "code",
   "execution_count": 38,
   "metadata": {
    "colab": {},
    "colab_type": "code",
    "id": "tLkn2KnyCCYG"
   },
   "outputs": [],
   "source": [
    "X = data.drop([\"loanDefault\"], axis=1)\n",
    "y = data.loanDefault"
   ]
  },
  {
   "cell_type": "markdown",
   "metadata": {
    "colab_type": "text",
    "id": "5enHHbQ1CCYT"
   },
   "source": [
    "split data columns "
   ]
  },
  {
   "cell_type": "code",
   "execution_count": 39,
   "metadata": {
    "colab": {},
    "colab_type": "code",
    "id": "0A5SD5C9CCYW"
   },
   "outputs": [],
   "source": [
    "x_train, x_test, y_train, y_test = train_test_split(X,y, test_size =0.2)"
   ]
  },
  {
   "cell_type": "code",
   "execution_count": 0,
   "metadata": {
    "colab": {},
    "colab_type": "code",
    "id": "_ZDZDlPxCCYg"
   },
   "outputs": [],
   "source": [
    "#create a random forest classifier\n",
    "clf = RandomForestClassifier(n_estimators=10, random_state=0, n_jobs=-1)"
   ]
  },
  {
   "cell_type": "code",
   "execution_count": 48,
   "metadata": {
    "colab": {
     "base_uri": "https://localhost:8080/",
     "height": 127
    },
    "colab_type": "code",
    "id": "3CrlJ2vXCCYq",
    "outputId": "b15c4166-2be6-4e4c-f22f-06b50abac36b"
   },
   "outputs": [
    {
     "data": {
      "text/plain": [
       "RandomForestClassifier(bootstrap=True, class_weight=None, criterion='gini',\n",
       "            max_depth=None, max_features='auto', max_leaf_nodes=None,\n",
       "            min_impurity_decrease=0.0, min_impurity_split=None,\n",
       "            min_samples_leaf=1, min_samples_split=2,\n",
       "            min_weight_fraction_leaf=0.0, n_estimators=10, n_jobs=-1,\n",
       "            oob_score=False, random_state=0, verbose=0, warm_start=False)"
      ]
     },
     "execution_count": 48,
     "metadata": {
      "tags": []
     },
     "output_type": "execute_result"
    }
   ],
   "source": [
    "#train the classifier\n",
    "clf.fit(x_train, y_train)"
   ]
  },
  {
   "cell_type": "code",
   "execution_count": 49,
   "metadata": {
    "colab": {
     "base_uri": "https://localhost:8080/",
     "height": 399
    },
    "colab_type": "code",
    "id": "A8Q165FoCCY3",
    "outputId": "9c79f9bd-0ec2-4601-80f9-6a5c40b77131"
   },
   "outputs": [
    {
     "data": {
      "text/html": [
       "\n",
       "    <style>\n",
       "    table.eli5-weights tr:hover {\n",
       "        filter: brightness(85%);\n",
       "    }\n",
       "</style>\n",
       "\n",
       "\n",
       "\n",
       "    \n",
       "\n",
       "    \n",
       "\n",
       "    \n",
       "\n",
       "    \n",
       "\n",
       "    \n",
       "\n",
       "    \n",
       "\n",
       "\n",
       "    \n",
       "\n",
       "    \n",
       "\n",
       "    \n",
       "\n",
       "    \n",
       "\n",
       "    \n",
       "\n",
       "    \n",
       "\n",
       "\n",
       "    \n",
       "\n",
       "    \n",
       "\n",
       "    \n",
       "\n",
       "    \n",
       "\n",
       "    \n",
       "        <table class=\"eli5-weights eli5-feature-importances\" style=\"border-collapse: collapse; border: none; margin-top: 0em; table-layout: auto;\">\n",
       "    <thead>\n",
       "    <tr style=\"border: none;\">\n",
       "        <th style=\"padding: 0 1em 0 0.5em; text-align: right; border: none;\">Weight</th>\n",
       "        <th style=\"padding: 0 0.5em 0 0.5em; text-align: left; border: none;\">Feature</th>\n",
       "    </tr>\n",
       "    </thead>\n",
       "    <tbody>\n",
       "    \n",
       "        <tr style=\"background-color: hsl(120, 100.00%, 80.00%); border: none;\">\n",
       "            <td style=\"padding: 0 1em 0 0.5em; text-align: right; border: none;\">\n",
       "                0.1242\n",
       "                \n",
       "                    &plusmn; 0.0004\n",
       "                \n",
       "            </td>\n",
       "            <td style=\"padding: 0 0.5em 0 0.5em; text-align: left; border: none;\">\n",
       "                settleDays\n",
       "            </td>\n",
       "        </tr>\n",
       "    \n",
       "        <tr style=\"background-color: hsl(120, 100.00%, 88.69%); border: none;\">\n",
       "            <td style=\"padding: 0 1em 0 0.5em; text-align: right; border: none;\">\n",
       "                0.0550\n",
       "                \n",
       "                    &plusmn; 0.0004\n",
       "                \n",
       "            </td>\n",
       "            <td style=\"padding: 0 0.5em 0 0.5em; text-align: left; border: none;\">\n",
       "                firstPaymentDefault\n",
       "            </td>\n",
       "        </tr>\n",
       "    \n",
       "        <tr style=\"background-color: hsl(120, 100.00%, 91.16%); border: none;\">\n",
       "            <td style=\"padding: 0 1em 0 0.5em; text-align: right; border: none;\">\n",
       "                0.0387\n",
       "                \n",
       "                    &plusmn; 0.0007\n",
       "                \n",
       "            </td>\n",
       "            <td style=\"padding: 0 0.5em 0 0.5em; text-align: left; border: none;\">\n",
       "                loanTerm\n",
       "            </td>\n",
       "        </tr>\n",
       "    \n",
       "        <tr style=\"background-color: hsl(120, 100.00%, 91.28%); border: none;\">\n",
       "            <td style=\"padding: 0 1em 0 0.5em; text-align: right; border: none;\">\n",
       "                0.0379\n",
       "                \n",
       "                    &plusmn; 0.0005\n",
       "                \n",
       "            </td>\n",
       "            <td style=\"padding: 0 0.5em 0 0.5em; text-align: left; border: none;\">\n",
       "                clientNumberPhoneContacts\n",
       "            </td>\n",
       "        </tr>\n",
       "    \n",
       "        <tr style=\"background-color: hsl(120, 100.00%, 91.44%); border: none;\">\n",
       "            <td style=\"padding: 0 1em 0 0.5em; text-align: right; border: none;\">\n",
       "                0.0370\n",
       "                \n",
       "                    &plusmn; 0.0005\n",
       "                \n",
       "            </td>\n",
       "            <td style=\"padding: 0 0.5em 0 0.5em; text-align: left; border: none;\">\n",
       "                clientAge\n",
       "            </td>\n",
       "        </tr>\n",
       "    \n",
       "        <tr style=\"background-color: hsl(120, 100.00%, 91.59%); border: none;\">\n",
       "            <td style=\"padding: 0 1em 0 0.5em; text-align: right; border: none;\">\n",
       "                0.0360\n",
       "                \n",
       "                    &plusmn; 0.0008\n",
       "                \n",
       "            </td>\n",
       "            <td style=\"padding: 0 0.5em 0 0.5em; text-align: left; border: none;\">\n",
       "                monthsss\n",
       "            </td>\n",
       "        </tr>\n",
       "    \n",
       "        <tr style=\"background-color: hsl(120, 100.00%, 91.60%); border: none;\">\n",
       "            <td style=\"padding: 0 1em 0 0.5em; text-align: right; border: none;\">\n",
       "                0.0359\n",
       "                \n",
       "                    &plusmn; 0.0003\n",
       "                \n",
       "            </td>\n",
       "            <td style=\"padding: 0 0.5em 0 0.5em; text-align: left; border: none;\">\n",
       "                loanAmount\n",
       "            </td>\n",
       "        </tr>\n",
       "    \n",
       "        <tr style=\"background-color: hsl(120, 100.00%, 91.69%); border: none;\">\n",
       "            <td style=\"padding: 0 1em 0 0.5em; text-align: right; border: none;\">\n",
       "                0.0354\n",
       "                \n",
       "                    &plusmn; 0.0006\n",
       "                \n",
       "            </td>\n",
       "            <td style=\"padding: 0 0.5em 0 0.5em; text-align: left; border: none;\">\n",
       "                interestRate\n",
       "            </td>\n",
       "        </tr>\n",
       "    \n",
       "        <tr style=\"background-color: hsl(120, 100.00%, 91.89%); border: none;\">\n",
       "            <td style=\"padding: 0 1em 0 0.5em; text-align: right; border: none;\">\n",
       "                0.0342\n",
       "                \n",
       "                    &plusmn; 0.0007\n",
       "                \n",
       "            </td>\n",
       "            <td style=\"padding: 0 0.5em 0 0.5em; text-align: left; border: none;\">\n",
       "                clientIncome\n",
       "            </td>\n",
       "        </tr>\n",
       "    \n",
       "        <tr style=\"background-color: hsl(120, 100.00%, 92.20%); border: none;\">\n",
       "            <td style=\"padding: 0 1em 0 0.5em; text-align: right; border: none;\">\n",
       "                0.0324\n",
       "                \n",
       "                    &plusmn; 0.0004\n",
       "                \n",
       "            </td>\n",
       "            <td style=\"padding: 0 0.5em 0 0.5em; text-align: left; border: none;\">\n",
       "                day_of_monthsss\n",
       "            </td>\n",
       "        </tr>\n",
       "    \n",
       "        <tr style=\"background-color: hsl(120, 100.00%, 92.39%); border: none;\">\n",
       "            <td style=\"padding: 0 1em 0 0.5em; text-align: right; border: none;\">\n",
       "                0.0312\n",
       "                \n",
       "                    &plusmn; 0.0006\n",
       "                \n",
       "            </td>\n",
       "            <td style=\"padding: 0 0.5em 0 0.5em; text-align: left; border: none;\">\n",
       "                clientAvgCallsPerDay\n",
       "            </td>\n",
       "        </tr>\n",
       "    \n",
       "        <tr style=\"background-color: hsl(120, 100.00%, 92.54%); border: none;\">\n",
       "            <td style=\"padding: 0 1em 0 0.5em; text-align: right; border: none;\">\n",
       "                0.0304\n",
       "                \n",
       "                    &plusmn; 0.0005\n",
       "                \n",
       "            </td>\n",
       "            <td style=\"padding: 0 0.5em 0 0.5em; text-align: left; border: none;\">\n",
       "                day_of_month\n",
       "            </td>\n",
       "        </tr>\n",
       "    \n",
       "        <tr style=\"background-color: hsl(120, 100.00%, 92.58%); border: none;\">\n",
       "            <td style=\"padding: 0 1em 0 0.5em; text-align: right; border: none;\">\n",
       "                0.0301\n",
       "                \n",
       "                    &plusmn; 0.0005\n",
       "                \n",
       "            </td>\n",
       "            <td style=\"padding: 0 0.5em 0 0.5em; text-align: left; border: none;\">\n",
       "                month\n",
       "            </td>\n",
       "        </tr>\n",
       "    \n",
       "        <tr style=\"background-color: hsl(120, 100.00%, 92.89%); border: none;\">\n",
       "            <td style=\"padding: 0 1em 0 0.5em; text-align: right; border: none;\">\n",
       "                0.0283\n",
       "                \n",
       "                    &plusmn; 0.0004\n",
       "                \n",
       "            </td>\n",
       "            <td style=\"padding: 0 0.5em 0 0.5em; text-align: left; border: none;\">\n",
       "                loanNumber\n",
       "            </td>\n",
       "        </tr>\n",
       "    \n",
       "        <tr style=\"background-color: hsl(120, 100.00%, 94.35%); border: none;\">\n",
       "            <td style=\"padding: 0 1em 0 0.5em; text-align: right; border: none;\">\n",
       "                0.0204\n",
       "                \n",
       "                    &plusmn; 0.0005\n",
       "                \n",
       "            </td>\n",
       "            <td style=\"padding: 0 0.5em 0 0.5em; text-align: left; border: none;\">\n",
       "                clientLoanPurpose_business\n",
       "            </td>\n",
       "        </tr>\n",
       "    \n",
       "        <tr style=\"background-color: hsl(120, 100.00%, 94.44%); border: none;\">\n",
       "            <td style=\"padding: 0 1em 0 0.5em; text-align: right; border: none;\">\n",
       "                0.0199\n",
       "                \n",
       "                    &plusmn; 0.0002\n",
       "                \n",
       "            </td>\n",
       "            <td style=\"padding: 0 0.5em 0 0.5em; text-align: left; border: none;\">\n",
       "                clientMaritalStatus_Single\n",
       "            </td>\n",
       "        </tr>\n",
       "    \n",
       "        <tr style=\"background-color: hsl(120, 100.00%, 95.35%); border: none;\">\n",
       "            <td style=\"padding: 0 1em 0 0.5em; text-align: right; border: none;\">\n",
       "                0.0155\n",
       "                \n",
       "                    &plusmn; 0.0002\n",
       "                \n",
       "            </td>\n",
       "            <td style=\"padding: 0 0.5em 0 0.5em; text-align: left; border: none;\">\n",
       "                clientGender_FEMALE\n",
       "            </td>\n",
       "        </tr>\n",
       "    \n",
       "        <tr style=\"background-color: hsl(120, 100.00%, 95.43%); border: none;\">\n",
       "            <td style=\"padding: 0 1em 0 0.5em; text-align: right; border: none;\">\n",
       "                0.0151\n",
       "                \n",
       "                    &plusmn; 0.0004\n",
       "                \n",
       "            </td>\n",
       "            <td style=\"padding: 0 0.5em 0 0.5em; text-align: left; border: none;\">\n",
       "                clientState_LAGOS\n",
       "            </td>\n",
       "        </tr>\n",
       "    \n",
       "        <tr style=\"background-color: hsl(120, 100.00%, 95.88%); border: none;\">\n",
       "            <td style=\"padding: 0 1em 0 0.5em; text-align: right; border: none;\">\n",
       "                0.0130\n",
       "                \n",
       "                    &plusmn; 0.0005\n",
       "                \n",
       "            </td>\n",
       "            <td style=\"padding: 0 0.5em 0 0.5em; text-align: left; border: none;\">\n",
       "                clientLoanPurpose_other\n",
       "            </td>\n",
       "        </tr>\n",
       "    \n",
       "        <tr style=\"background-color: hsl(120, 100.00%, 95.90%); border: none;\">\n",
       "            <td style=\"padding: 0 1em 0 0.5em; text-align: right; border: none;\">\n",
       "                0.0129\n",
       "                \n",
       "                    &plusmn; 0.0004\n",
       "                \n",
       "            </td>\n",
       "            <td style=\"padding: 0 0.5em 0 0.5em; text-align: left; border: none;\">\n",
       "                clientLoanPurpose_house\n",
       "            </td>\n",
       "        </tr>\n",
       "    \n",
       "    \n",
       "        \n",
       "            <tr style=\"background-color: hsl(120, 100.00%, 95.90%); border: none;\">\n",
       "                <td colspan=\"2\" style=\"padding: 0 0.5em 0 0.5em; text-align: center; border: none; white-space: nowrap;\">\n",
       "                    <i>&hellip; 56 more &hellip;</i>\n",
       "                </td>\n",
       "            </tr>\n",
       "        \n",
       "    \n",
       "    </tbody>\n",
       "</table>\n",
       "    \n",
       "\n",
       "    \n",
       "\n",
       "\n",
       "    \n",
       "\n",
       "    \n",
       "\n",
       "    \n",
       "\n",
       "    \n",
       "\n",
       "    \n",
       "\n",
       "    \n",
       "\n",
       "\n",
       "\n"
      ],
      "text/plain": [
       "<IPython.core.display.HTML object>"
      ]
     },
     "execution_count": 49,
     "metadata": {
      "tags": []
     },
     "output_type": "execute_result"
    }
   ],
   "source": [
    "perm = PermutationImportance(clf, random_state=1).fit(x_train, y_train)\n",
    "eli5.show_weights(perm, feature_names = x_train.columns.tolist())"
   ]
  },
  {
   "cell_type": "markdown",
   "metadata": {
    "colab_type": "text",
    "id": "ETQJk1Sa2rYh"
   },
   "source": [
    "Awesome!!! settleDays,firstPaymentDefault,loanAmount......... etc from the plot are really important to knowing if a client will default or not. "
   ]
  },
  {
   "cell_type": "markdown",
   "metadata": {
    "colab_type": "text",
    "id": "ozCq9t1mCCY_"
   },
   "source": [
    "# Modelling"
   ]
  },
  {
   "cell_type": "code",
   "execution_count": 40,
   "metadata": {
    "colab": {},
    "colab_type": "code",
    "id": "tX31hUBUCCZC"
   },
   "outputs": [],
   "source": [
    "#parameter values to search for gridsearch\n",
    "parameters = {\n",
    "    'n_estimators' : [10],\n",
    "    'max_depth'    : [10]  \n",
    "}"
   ]
  },
  {
   "cell_type": "markdown",
   "metadata": {
    "colab_type": "text",
    "id": "MtgIqxGMCCZK"
   },
   "source": [
    "use of repeatedstratifiedkfold with n_splits=5 and n_repeats = 3 making 15 to evaluate the training set to create a more\n",
    "reliable evaluation scheme"
   ]
  },
  {
   "cell_type": "code",
   "execution_count": 0,
   "metadata": {
    "colab": {},
    "colab_type": "code",
    "id": "d8hDSl7ZgzgM"
   },
   "outputs": [],
   "source": [
    "#X = X.as_matrix().astype(np.float)\n",
    "#y = y.as_matrix().astype(np.float)\n"
   ]
  },
  {
   "cell_type": "markdown",
   "metadata": {
    "colab_type": "text",
    "id": "LRI_fHXdCCZM"
   },
   "source": [
    "# RandomForestClassifier Model"
   ]
  },
  {
   "cell_type": "code",
   "execution_count": 41,
   "metadata": {
    "colab": {
     "base_uri": "https://localhost:8080/",
     "height": 1946
    },
    "colab_type": "code",
    "id": "-rakJ2mtCCZP",
    "outputId": "e6be9d3e-4790-4c47-9672-33d0ee2113de"
   },
   "outputs": [
    {
     "name": "stdout",
     "output_type": "stream",
     "text": [
      "\n",
      "1 of KFold 5\n",
      "{'max_depth': 10, 'n_estimators': 10}\n",
      "train Accuracy: 0.87%\n",
      "train recall: 0.57%\n",
      "train precision: 0.96%\n",
      "train f1_score: 0.72%\n",
      "\n",
      "1 of KFold 5\n",
      "{'max_depth': 10, 'n_estimators': 10}\n",
      "train Accuracy: 0.87%\n",
      "train recall: 0.58%\n",
      "train precision: 0.95%\n",
      "train f1_score: 0.72%\n",
      "\n",
      "1 of KFold 5\n",
      "{'max_depth': 10, 'n_estimators': 10}\n",
      "train Accuracy: 0.88%\n",
      "train recall: 0.58%\n",
      "train precision: 0.95%\n",
      "train f1_score: 0.72%\n",
      "\n",
      "1 of KFold 5\n",
      "{'max_depth': 10, 'n_estimators': 10}\n",
      "train Accuracy: 0.87%\n",
      "train recall: 0.58%\n",
      "train precision: 0.95%\n",
      "train f1_score: 0.72%\n",
      "\n",
      "1 of KFold 5\n",
      "{'max_depth': 10, 'n_estimators': 10}\n",
      "train Accuracy: 0.87%\n",
      "train recall: 0.58%\n",
      "train precision: 0.94%\n",
      "train f1_score: 0.72%\n",
      "\n",
      "1 of KFold 5\n",
      "{'max_depth': 10, 'n_estimators': 10}\n",
      "train Accuracy: 0.88%\n",
      "train recall: 0.59%\n",
      "train precision: 0.95%\n",
      "train f1_score: 0.73%\n",
      "\n",
      "1 of KFold 5\n",
      "{'max_depth': 10, 'n_estimators': 10}\n",
      "train Accuracy: 0.87%\n",
      "train recall: 0.57%\n",
      "train precision: 0.95%\n",
      "train f1_score: 0.72%\n",
      "\n",
      "1 of KFold 5\n",
      "{'max_depth': 10, 'n_estimators': 10}\n",
      "train Accuracy: 0.87%\n",
      "train recall: 0.59%\n",
      "train precision: 0.95%\n",
      "train f1_score: 0.72%\n",
      "\n",
      "1 of KFold 5\n",
      "{'max_depth': 10, 'n_estimators': 10}\n",
      "train Accuracy: 0.87%\n",
      "train recall: 0.55%\n",
      "train precision: 0.97%\n",
      "train f1_score: 0.70%\n",
      "\n",
      "1 of KFold 5\n",
      "{'max_depth': 10, 'n_estimators': 10}\n",
      "train Accuracy: 0.87%\n",
      "train recall: 0.58%\n",
      "train precision: 0.95%\n",
      "train f1_score: 0.72%\n",
      "\n",
      "1 of KFold 5\n",
      "{'max_depth': 10, 'n_estimators': 10}\n",
      "train Accuracy: 0.88%\n",
      "train recall: 0.59%\n",
      "train precision: 0.95%\n",
      "train f1_score: 0.73%\n",
      "\n",
      "1 of KFold 5\n",
      "{'max_depth': 10, 'n_estimators': 10}\n",
      "train Accuracy: 0.87%\n",
      "train recall: 0.57%\n",
      "train precision: 0.96%\n",
      "train f1_score: 0.71%\n",
      "\n",
      "1 of KFold 5\n",
      "{'max_depth': 10, 'n_estimators': 10}\n",
      "train Accuracy: 0.88%\n",
      "train recall: 0.58%\n",
      "train precision: 0.95%\n",
      "train f1_score: 0.72%\n",
      "\n",
      "1 of KFold 5\n",
      "{'max_depth': 10, 'n_estimators': 10}\n",
      "train Accuracy: 0.87%\n",
      "train recall: 0.57%\n",
      "train precision: 0.96%\n",
      "train f1_score: 0.72%\n",
      "\n",
      "1 of KFold 5\n",
      "{'max_depth': 10, 'n_estimators': 10}\n",
      "train Accuracy: 0.87%\n",
      "train recall: 0.57%\n",
      "train precision: 0.95%\n",
      "train f1_score: 0.71%\n"
     ]
    }
   ],
   "source": [
    "kf = RepeatedStratifiedKFold(n_splits=5, random_state=1, n_repeats=3)\n",
    "pred_test_full = 0\n",
    "cv_score = []\n",
    "cv_scorexx = []\n",
    "cv_scorx = []\n",
    "cv_scorxv = []\n",
    "i = 1\n",
    "for train_index, test_index in kf.split(x_train,y_train):\n",
    "    print('\\n{} of KFold {}'.format(i,5))\n",
    "    Xtr, Xvl = X.loc[train_index], X.loc[test_index]\n",
    "    ytr, yvl = y.loc[train_index], y.loc[test_index]\n",
    "    #declare model with gridsearchcv\n",
    "    gs = GridSearchCV(RandomForestClassifier(bootstrap=True, class_weight=None, criterion='gini', \n",
    "                               max_features=10, max_leaf_nodes=None, min_impurity_split=1e-07,\n",
    "                               min_samples_leaf=1, min_samples_split=2, min_weight_fraction_leaf=0.0,\n",
    "                               n_estimators=10, n_jobs=2, oob_score=False, random_state=0,\n",
    "                               verbose=0, warm_start=False), parameters, scoring='f1', cv=10, iid=True)\n",
    "    gs.fit(Xtr, ytr)\n",
    "    \n",
    "    y_pred = gs.predict(Xvl)\n",
    "    print(gs.best_params_)\n",
    "\n",
    "    valid_accs = accuracy_score(y_true=yvl, y_pred=y_pred)\n",
    "    valid_recall = recall_score(y_true=yvl, y_pred=y_pred)\n",
    "    valid_precision = precision_score(y_true=yvl, y_pred=y_pred)\n",
    "    valid_f1_score = f1_score(y_true=yvl, y_pred=y_pred)\n",
    "    \n",
    "    print('train Accuracy: %.2f%%' % (valid_accs))      \n",
    "    print('train recall: %.2f%%' % (valid_recall))\n",
    "    print('train precision: %.2f%%' % (valid_precision))\n",
    "    print('train f1_score: %.2f%%' % (valid_f1_score))\n",
    "\n",
    "    cv_score.append(valid_accs)\n",
    "    cv_scorexx.append(valid_recall)\n",
    "    cv_scorx.append(valid_precision)\n",
    "    cv_scorxv.append(valid_f1_score)\n",
    "    \n",
    "    pred_test = gs.predict_proba(x_test)[:,1]\n",
    "    pred_test_full +=pred_test\n",
    "    i+1\n",
    "    \n",
    "    \n",
    "    "
   ]
  },
  {
   "cell_type": "code",
   "execution_count": 42,
   "metadata": {
    "colab": {
     "base_uri": "https://localhost:8080/",
     "height": 90
    },
    "colab_type": "code",
    "id": "E12m1m6ECCZy",
    "outputId": "c01ec8cf-3b2c-4cc5-923b-a66c341a61bb"
   },
   "outputs": [
    {
     "name": "stdout",
     "output_type": "stream",
     "text": [
      "Mean Train cv Accuracy Score 0.8737951079190126\n",
      "Mean Train cv recall Score 0.5767465628068495\n",
      "Mean Train cv precision Score 0.9517655020288207\n",
      "Mean Train cv f1_score 0.718164397152825\n"
     ]
    }
   ],
   "source": [
    "print('Mean Train cv Accuracy Score',np.mean(cv_score))\n",
    "print('Mean Train cv recall Score',np.mean(cv_scorexx))\n",
    "print('Mean Train cv precision Score',np.mean(cv_scorx))\n",
    "print('Mean Train cv f1_score',np.mean(cv_scorxv))"
   ]
  },
  {
   "cell_type": "code",
   "execution_count": null,
   "metadata": {
    "colab": {},
    "colab_type": "code",
    "id": "8sd6RRLTIni0"
   },
   "outputs": [],
   "source": []
  },
  {
   "cell_type": "code",
   "execution_count": 43,
   "metadata": {
    "colab": {
     "base_uri": "https://localhost:8080/",
     "height": 90
    },
    "colab_type": "code",
    "id": "Z8PK8NJ6IodY",
    "outputId": "562a33d5-9d59-44e8-ac69-1a72c1f52069"
   },
   "outputs": [
    {
     "name": "stdout",
     "output_type": "stream",
     "text": [
      "Test set Accuracy: 0.876375\n",
      "Test set Precision: 0.960075\n",
      "Test set Recall: 0.578430\n",
      "Test set F1 score: 0.721917\n"
     ]
    }
   ],
   "source": [
    "# predict for test set\n",
    "yhat_probs = gs.predict(x_test)\n",
    " \n",
    "# accuracy: (tp + tn) / (p + n)\n",
    "accuracy = accuracy_score(y_test, yhat_probs)\n",
    "print('Test set Accuracy: %f' % accuracy)\n",
    "# precision tp / (tp + fp)\n",
    "precision = precision_score(y_test, yhat_probs)\n",
    "print('Test set Precision: %f' % precision)\n",
    "# recall: tp / (tp + fn)\n",
    "recall = recall_score(y_test, yhat_probs)\n",
    "print('Test set Recall: %f' % recall)\n",
    "# f1: 2 tp / (2 tp + fp + fn)\n",
    "f1 = f1_score(y_test, yhat_probs)\n",
    "print('Test set F1 score: %f' % f1)"
   ]
  },
  {
   "cell_type": "markdown",
   "metadata": {
    "colab_type": "text",
    "id": "iRoO3Nc2CCao"
   },
   "source": [
    "# Neural Network Model"
   ]
  },
  {
   "cell_type": "code",
   "execution_count": 44,
   "metadata": {
    "colab": {},
    "colab_type": "code",
    "id": "gbjK_a9cHr52"
   },
   "outputs": [],
   "source": [
    "#neural network from sklearn package with three hidden layers and max_iteration = 500\n",
    "mlp = MLPClassifier(hidden_layer_sizes=(13,13,13),max_iter=500)"
   ]
  },
  {
   "cell_type": "code",
   "execution_count": 45,
   "metadata": {
    "colab": {},
    "colab_type": "code",
    "id": "15Gqa8UM6rxS"
   },
   "outputs": [
    {
     "data": {
      "text/plain": [
       "MLPClassifier(activation='relu', alpha=0.0001, batch_size='auto', beta_1=0.9,\n",
       "       beta_2=0.999, early_stopping=False, epsilon=1e-08,\n",
       "       hidden_layer_sizes=(13, 13, 13), learning_rate='constant',\n",
       "       learning_rate_init=0.001, max_iter=500, momentum=0.9,\n",
       "       nesterovs_momentum=True, power_t=0.5, random_state=None,\n",
       "       shuffle=True, solver='adam', tol=0.0001, validation_fraction=0.1,\n",
       "       verbose=False, warm_start=False)"
      ]
     },
     "execution_count": 45,
     "metadata": {},
     "output_type": "execute_result"
    }
   ],
   "source": [
    "#train model\n",
    "mlp.fit(x_train,y_train)"
   ]
  },
  {
   "cell_type": "code",
   "execution_count": 46,
   "metadata": {},
   "outputs": [],
   "source": [
    "#predict train set\n",
    "yhat_classes = mlp.predict(x_train)"
   ]
  },
  {
   "cell_type": "code",
   "execution_count": 47,
   "metadata": {},
   "outputs": [
    {
     "name": "stdout",
     "output_type": "stream",
     "text": [
      "Train set Accuracy: 0.857530\n",
      "Train set Precision: 0.819637\n",
      "Train set Recall: 0.624009\n",
      "Train set F1 score: 0.708568\n"
     ]
    }
   ],
   "source": [
    "# accuracy: (tp + tn) / (p + n)\n",
    "accuracy = accuracy_score(y_train, yhat_classes)\n",
    "print('Train set Accuracy: %f' % accuracy)\n",
    "# precision tp / (tp + fp)\n",
    "precision = precision_score(y_train, yhat_classes)\n",
    "print('Train set Precision: %f' % precision)\n",
    "# recall: tp / (tp + fn)\n",
    "recall = recall_score(y_train, yhat_classes)\n",
    "print('Train set Recall: %f' % recall)\n",
    "# f1: 2 tp / (2 tp + fp + fn)\n",
    "f1 = f1_score(y_train, yhat_classes)\n",
    "print('Train set F1 score: %f' % f1)"
   ]
  },
  {
   "cell_type": "code",
   "execution_count": 48,
   "metadata": {},
   "outputs": [],
   "source": [
    "yhat_classes = mlp.predict(x_test)"
   ]
  },
  {
   "cell_type": "code",
   "execution_count": 49,
   "metadata": {},
   "outputs": [
    {
     "name": "stdout",
     "output_type": "stream",
     "text": [
      "Test set Accuracy: 0.857170\n",
      "Test set Precision: 0.818411\n",
      "Test set Recall: 0.623490\n",
      "Test set F1 score: 0.707775\n"
     ]
    }
   ],
   "source": [
    "# accuracy: (tp + tn) / (p + n)\n",
    "accuracy = accuracy_score(y_test, yhat_classes)\n",
    "print('Test set Accuracy: %f' % accuracy)\n",
    "# precision tp / (tp + fp)\n",
    "precision = precision_score(y_test, yhat_classes)\n",
    "print('Test set Precision: %f' % precision)\n",
    "# recall: tp / (tp + fn)\n",
    "recall = recall_score(y_test, yhat_classes)\n",
    "print('Test set Recall: %f' % recall)\n",
    "# f1: 2 tp / (2 tp + fp + fn)\n",
    "f1 = f1_score(y_test, yhat_classes)\n",
    "print('Test set F1 score: %f' % f1)"
   ]
  },
  {
   "cell_type": "markdown",
   "metadata": {
    "colab_type": "text",
    "id": "XgNRDZC06ucM"
   },
   "source": [
    "The RandomForest Model is preferred over the NeuralNetwork model as it has a higher precision(ability to detect true positives), higer f1 score(metric for an unbalanced classification dataset)"
   ]
  },
  {
   "cell_type": "code",
   "execution_count": null,
   "metadata": {},
   "outputs": [],
   "source": []
  }
 ],
 "metadata": {
  "accelerator": "GPU",
  "colab": {
   "collapsed_sections": [],
   "name": "emmamichael65@gmail.com.ipynb",
   "provenance": [],
   "version": "0.3.2"
  },
  "kernelspec": {
   "display_name": "Python 3",
   "language": "python",
   "name": "python3"
  },
  "language_info": {
   "codemirror_mode": {
    "name": "ipython",
    "version": 3
   },
   "file_extension": ".py",
   "mimetype": "text/x-python",
   "name": "python",
   "nbconvert_exporter": "python",
   "pygments_lexer": "ipython3",
   "version": "3.6.5"
  }
 },
 "nbformat": 4,
 "nbformat_minor": 1
}
